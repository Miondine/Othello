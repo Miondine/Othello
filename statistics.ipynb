{
 "metadata": {
  "language_info": {
   "codemirror_mode": {
    "name": "ipython",
    "version": 3
   },
   "file_extension": ".py",
   "mimetype": "text/x-python",
   "name": "python",
   "nbconvert_exporter": "python",
   "pygments_lexer": "ipython3",
   "version": "3.8.5"
  },
  "orig_nbformat": 2,
  "kernelspec": {
   "name": "python385jvsc74a57bd01c9995cb95a6d3ee269721cd2bfb7c6cf4dd0363b87e4d35ac03943323d3aacf",
   "display_name": "Python 3.8.5 64-bit ('base': conda)"
  }
 },
 "nbformat": 4,
 "nbformat_minor": 2,
 "cells": [
  {
   "cell_type": "code",
   "execution_count": 2,
   "metadata": {},
   "outputs": [
    {
     "output_type": "stream",
     "name": "stdout",
     "text": [
      "pygame 2.0.1 (SDL 2.0.14, Python 3.8.5)\nHello from the pygame community. https://www.pygame.org/contribute.html\n"
     ]
    }
   ],
   "source": [
    "import othello_game.board as b\n",
    "import othello_player.player as p\n",
    "import othello_player.human as h\n",
    "import othello_game.interaction as i\n",
    "import othello_game.constants as c \n",
    "import copy\n",
    "import numpy as np \n",
    "import pygame\n",
    "import othello_game.game as game\n",
    "import pandas"
   ]
  },
  {
   "cell_type": "code",
   "execution_count": 3,
   "metadata": {},
   "outputs": [
    {
     "output_type": "error",
     "ename": "FileNotFoundError",
     "evalue": "[Errno 2] No such file or directory: 'Roxanne_Gambler_500.txt'",
     "traceback": [
      "\u001b[0;31m---------------------------------------------------------------------------\u001b[0m",
      "\u001b[0;31mFileNotFoundError\u001b[0m                         Traceback (most recent call last)",
      "\u001b[0;32m<ipython-input-3-13ce8a535472>\u001b[0m in \u001b[0;36m<module>\u001b[0;34m\u001b[0m\n\u001b[1;32m      1\u001b[0m \u001b[0;31m# read in data from Roxanne vs. Gambler\u001b[0m\u001b[0;34m\u001b[0m\u001b[0;34m\u001b[0m\u001b[0;34m\u001b[0m\u001b[0m\n\u001b[0;32m----> 2\u001b[0;31m \u001b[0mdf1\u001b[0m \u001b[0;34m=\u001b[0m \u001b[0mpandas\u001b[0m\u001b[0;34m.\u001b[0m\u001b[0mread_csv\u001b[0m\u001b[0;34m(\u001b[0m\u001b[0;34m'Roxanne_Gambler_500.txt'\u001b[0m\u001b[0;34m,\u001b[0m\u001b[0mheader\u001b[0m\u001b[0;34m=\u001b[0m\u001b[0;36m2\u001b[0m\u001b[0;34m)\u001b[0m \u001b[0;31m# Roxanne white\u001b[0m\u001b[0;34m\u001b[0m\u001b[0;34m\u001b[0m\u001b[0m\n\u001b[0m\u001b[1;32m      3\u001b[0m \u001b[0mdf2\u001b[0m \u001b[0;34m=\u001b[0m \u001b[0mpandas\u001b[0m\u001b[0;34m.\u001b[0m\u001b[0mread_csv\u001b[0m\u001b[0;34m(\u001b[0m\u001b[0;34m'Gambler_Roxanne_500.txt'\u001b[0m\u001b[0;34m,\u001b[0m\u001b[0mheader\u001b[0m\u001b[0;34m=\u001b[0m\u001b[0;36m2\u001b[0m\u001b[0;34m)\u001b[0m \u001b[0;31m# Gambler white\u001b[0m\u001b[0;34m\u001b[0m\u001b[0;34m\u001b[0m\u001b[0m\n\u001b[1;32m      4\u001b[0m \u001b[0mdf3\u001b[0m \u001b[0;34m=\u001b[0m \u001b[0mpandas\u001b[0m\u001b[0;34m.\u001b[0m\u001b[0mconcat\u001b[0m\u001b[0;34m(\u001b[0m\u001b[0;34m[\u001b[0m\u001b[0mdf1\u001b[0m\u001b[0;34m,\u001b[0m\u001b[0mdf2\u001b[0m\u001b[0;34m]\u001b[0m\u001b[0;34m,\u001b[0m\u001b[0mignore_index\u001b[0m\u001b[0;34m=\u001b[0m\u001b[0;34m'True'\u001b[0m\u001b[0;34m)\u001b[0m \u001b[0;31m# both mixed, Roxanne and Gambler are same ampount of time white player\u001b[0m\u001b[0;34m\u001b[0m\u001b[0;34m\u001b[0m\u001b[0m\n\u001b[1;32m      5\u001b[0m \u001b[0mresults_gambler_roxanne\u001b[0m \u001b[0;34m=\u001b[0m \u001b[0;34m{\u001b[0m\u001b[0;34m}\u001b[0m\u001b[0;34m\u001b[0m\u001b[0;34m\u001b[0m\u001b[0m\n",
      "\u001b[0;32m~/opt/anaconda3/lib/python3.8/site-packages/pandas/io/parsers.py\u001b[0m in \u001b[0;36mread_csv\u001b[0;34m(filepath_or_buffer, sep, delimiter, header, names, index_col, usecols, squeeze, prefix, mangle_dupe_cols, dtype, engine, converters, true_values, false_values, skipinitialspace, skiprows, skipfooter, nrows, na_values, keep_default_na, na_filter, verbose, skip_blank_lines, parse_dates, infer_datetime_format, keep_date_col, date_parser, dayfirst, cache_dates, iterator, chunksize, compression, thousands, decimal, lineterminator, quotechar, quoting, doublequote, escapechar, comment, encoding, dialect, error_bad_lines, warn_bad_lines, delim_whitespace, low_memory, memory_map, float_precision)\u001b[0m\n\u001b[1;32m    684\u001b[0m     )\n\u001b[1;32m    685\u001b[0m \u001b[0;34m\u001b[0m\u001b[0m\n\u001b[0;32m--> 686\u001b[0;31m     \u001b[0;32mreturn\u001b[0m \u001b[0m_read\u001b[0m\u001b[0;34m(\u001b[0m\u001b[0mfilepath_or_buffer\u001b[0m\u001b[0;34m,\u001b[0m \u001b[0mkwds\u001b[0m\u001b[0;34m)\u001b[0m\u001b[0;34m\u001b[0m\u001b[0;34m\u001b[0m\u001b[0m\n\u001b[0m\u001b[1;32m    687\u001b[0m \u001b[0;34m\u001b[0m\u001b[0m\n\u001b[1;32m    688\u001b[0m \u001b[0;34m\u001b[0m\u001b[0m\n",
      "\u001b[0;32m~/opt/anaconda3/lib/python3.8/site-packages/pandas/io/parsers.py\u001b[0m in \u001b[0;36m_read\u001b[0;34m(filepath_or_buffer, kwds)\u001b[0m\n\u001b[1;32m    450\u001b[0m \u001b[0;34m\u001b[0m\u001b[0m\n\u001b[1;32m    451\u001b[0m     \u001b[0;31m# Create the parser.\u001b[0m\u001b[0;34m\u001b[0m\u001b[0;34m\u001b[0m\u001b[0;34m\u001b[0m\u001b[0m\n\u001b[0;32m--> 452\u001b[0;31m     \u001b[0mparser\u001b[0m \u001b[0;34m=\u001b[0m \u001b[0mTextFileReader\u001b[0m\u001b[0;34m(\u001b[0m\u001b[0mfp_or_buf\u001b[0m\u001b[0;34m,\u001b[0m \u001b[0;34m**\u001b[0m\u001b[0mkwds\u001b[0m\u001b[0;34m)\u001b[0m\u001b[0;34m\u001b[0m\u001b[0;34m\u001b[0m\u001b[0m\n\u001b[0m\u001b[1;32m    453\u001b[0m \u001b[0;34m\u001b[0m\u001b[0m\n\u001b[1;32m    454\u001b[0m     \u001b[0;32mif\u001b[0m \u001b[0mchunksize\u001b[0m \u001b[0;32mor\u001b[0m \u001b[0miterator\u001b[0m\u001b[0;34m:\u001b[0m\u001b[0;34m\u001b[0m\u001b[0;34m\u001b[0m\u001b[0m\n",
      "\u001b[0;32m~/opt/anaconda3/lib/python3.8/site-packages/pandas/io/parsers.py\u001b[0m in \u001b[0;36m__init__\u001b[0;34m(self, f, engine, **kwds)\u001b[0m\n\u001b[1;32m    944\u001b[0m             \u001b[0mself\u001b[0m\u001b[0;34m.\u001b[0m\u001b[0moptions\u001b[0m\u001b[0;34m[\u001b[0m\u001b[0;34m\"has_index_names\"\u001b[0m\u001b[0;34m]\u001b[0m \u001b[0;34m=\u001b[0m \u001b[0mkwds\u001b[0m\u001b[0;34m[\u001b[0m\u001b[0;34m\"has_index_names\"\u001b[0m\u001b[0;34m]\u001b[0m\u001b[0;34m\u001b[0m\u001b[0;34m\u001b[0m\u001b[0m\n\u001b[1;32m    945\u001b[0m \u001b[0;34m\u001b[0m\u001b[0m\n\u001b[0;32m--> 946\u001b[0;31m         \u001b[0mself\u001b[0m\u001b[0;34m.\u001b[0m\u001b[0m_make_engine\u001b[0m\u001b[0;34m(\u001b[0m\u001b[0mself\u001b[0m\u001b[0;34m.\u001b[0m\u001b[0mengine\u001b[0m\u001b[0;34m)\u001b[0m\u001b[0;34m\u001b[0m\u001b[0;34m\u001b[0m\u001b[0m\n\u001b[0m\u001b[1;32m    947\u001b[0m \u001b[0;34m\u001b[0m\u001b[0m\n\u001b[1;32m    948\u001b[0m     \u001b[0;32mdef\u001b[0m \u001b[0mclose\u001b[0m\u001b[0;34m(\u001b[0m\u001b[0mself\u001b[0m\u001b[0;34m)\u001b[0m\u001b[0;34m:\u001b[0m\u001b[0;34m\u001b[0m\u001b[0;34m\u001b[0m\u001b[0m\n",
      "\u001b[0;32m~/opt/anaconda3/lib/python3.8/site-packages/pandas/io/parsers.py\u001b[0m in \u001b[0;36m_make_engine\u001b[0;34m(self, engine)\u001b[0m\n\u001b[1;32m   1176\u001b[0m     \u001b[0;32mdef\u001b[0m \u001b[0m_make_engine\u001b[0m\u001b[0;34m(\u001b[0m\u001b[0mself\u001b[0m\u001b[0;34m,\u001b[0m \u001b[0mengine\u001b[0m\u001b[0;34m=\u001b[0m\u001b[0;34m\"c\"\u001b[0m\u001b[0;34m)\u001b[0m\u001b[0;34m:\u001b[0m\u001b[0;34m\u001b[0m\u001b[0;34m\u001b[0m\u001b[0m\n\u001b[1;32m   1177\u001b[0m         \u001b[0;32mif\u001b[0m \u001b[0mengine\u001b[0m \u001b[0;34m==\u001b[0m \u001b[0;34m\"c\"\u001b[0m\u001b[0;34m:\u001b[0m\u001b[0;34m\u001b[0m\u001b[0;34m\u001b[0m\u001b[0m\n\u001b[0;32m-> 1178\u001b[0;31m             \u001b[0mself\u001b[0m\u001b[0;34m.\u001b[0m\u001b[0m_engine\u001b[0m \u001b[0;34m=\u001b[0m \u001b[0mCParserWrapper\u001b[0m\u001b[0;34m(\u001b[0m\u001b[0mself\u001b[0m\u001b[0;34m.\u001b[0m\u001b[0mf\u001b[0m\u001b[0;34m,\u001b[0m \u001b[0;34m**\u001b[0m\u001b[0mself\u001b[0m\u001b[0;34m.\u001b[0m\u001b[0moptions\u001b[0m\u001b[0;34m)\u001b[0m\u001b[0;34m\u001b[0m\u001b[0;34m\u001b[0m\u001b[0m\n\u001b[0m\u001b[1;32m   1179\u001b[0m         \u001b[0;32melse\u001b[0m\u001b[0;34m:\u001b[0m\u001b[0;34m\u001b[0m\u001b[0;34m\u001b[0m\u001b[0m\n\u001b[1;32m   1180\u001b[0m             \u001b[0;32mif\u001b[0m \u001b[0mengine\u001b[0m \u001b[0;34m==\u001b[0m \u001b[0;34m\"python\"\u001b[0m\u001b[0;34m:\u001b[0m\u001b[0;34m\u001b[0m\u001b[0;34m\u001b[0m\u001b[0m\n",
      "\u001b[0;32m~/opt/anaconda3/lib/python3.8/site-packages/pandas/io/parsers.py\u001b[0m in \u001b[0;36m__init__\u001b[0;34m(self, src, **kwds)\u001b[0m\n\u001b[1;32m   2006\u001b[0m         \u001b[0mkwds\u001b[0m\u001b[0;34m[\u001b[0m\u001b[0;34m\"usecols\"\u001b[0m\u001b[0;34m]\u001b[0m \u001b[0;34m=\u001b[0m \u001b[0mself\u001b[0m\u001b[0;34m.\u001b[0m\u001b[0musecols\u001b[0m\u001b[0;34m\u001b[0m\u001b[0;34m\u001b[0m\u001b[0m\n\u001b[1;32m   2007\u001b[0m \u001b[0;34m\u001b[0m\u001b[0m\n\u001b[0;32m-> 2008\u001b[0;31m         \u001b[0mself\u001b[0m\u001b[0;34m.\u001b[0m\u001b[0m_reader\u001b[0m \u001b[0;34m=\u001b[0m \u001b[0mparsers\u001b[0m\u001b[0;34m.\u001b[0m\u001b[0mTextReader\u001b[0m\u001b[0;34m(\u001b[0m\u001b[0msrc\u001b[0m\u001b[0;34m,\u001b[0m \u001b[0;34m**\u001b[0m\u001b[0mkwds\u001b[0m\u001b[0;34m)\u001b[0m\u001b[0;34m\u001b[0m\u001b[0;34m\u001b[0m\u001b[0m\n\u001b[0m\u001b[1;32m   2009\u001b[0m         \u001b[0mself\u001b[0m\u001b[0;34m.\u001b[0m\u001b[0munnamed_cols\u001b[0m \u001b[0;34m=\u001b[0m \u001b[0mself\u001b[0m\u001b[0;34m.\u001b[0m\u001b[0m_reader\u001b[0m\u001b[0;34m.\u001b[0m\u001b[0munnamed_cols\u001b[0m\u001b[0;34m\u001b[0m\u001b[0;34m\u001b[0m\u001b[0m\n\u001b[1;32m   2010\u001b[0m \u001b[0;34m\u001b[0m\u001b[0m\n",
      "\u001b[0;32mpandas/_libs/parsers.pyx\u001b[0m in \u001b[0;36mpandas._libs.parsers.TextReader.__cinit__\u001b[0;34m()\u001b[0m\n",
      "\u001b[0;32mpandas/_libs/parsers.pyx\u001b[0m in \u001b[0;36mpandas._libs.parsers.TextReader._setup_parser_source\u001b[0;34m()\u001b[0m\n",
      "\u001b[0;31mFileNotFoundError\u001b[0m: [Errno 2] No such file or directory: 'Roxanne_Gambler_500.txt'"
     ]
    }
   ],
   "source": [
    "# read in data from Roxanne vs. Gambler\n",
    "df1 = pandas.read_csv('Roxanne_Gambler_15000.txt',header=2) # Roxanne white\n",
    "df2 = pandas.read_csv('Gambler_Roxanne_15000.txt',header=2) # Gambler white\n",
    "df3 = pandas.concat([df1,df2],ignore_index='True') # both mixed, Roxanne and Gambler are same ampount of time white player\n",
    "results_gambler_roxanne = {}\n",
    "results_gambler_roxanne['Roxanne'] = {}\n",
    "results_gambler_roxanne['Gambler'] = {}\n",
    "results_gambler_roxanne['Draw'] = {} \n",
    "#mixed results\n",
    "wins_roxanne, wins_gambler, x,y = df3.sum(axis=0)\n",
    "wins_roxanne_percentage = wins_roxanne/30000\n",
    "wins_gambler_percentage = wins_gambler/30000\n",
    "draws = 30000 - wins_gambler - wins_roxanne\n",
    "draws_percentage = draws / 30000\n",
    "results_gambler_roxanne['Roxanne']['total wins'] = wins_roxanne\n",
    "results_gambler_roxanne['Roxanne']['percentage wins'] = wins_roxanne_percentage\n",
    "results_gambler_roxanne['Gambler']['total wins'] = wins_gambler\n",
    "results_gambler_roxanne['Gambler']['percentage wins'] = wins_gambler_percentage\n",
    "results_gambler_roxanne['Draw']['total'] = draws\n",
    "results_gambler_roxanne['Draw']['percentage'] = draws_percentage\n",
    "\n",
    "# roxanne white results\n",
    "wins_roxanne, wins_gambler, x,y = df1.sum(axis=0)\n",
    "wins_roxanne_percentage = wins_roxanne/15000\n",
    "wins_gambler_percentage = wins_gambler/15000\n",
    "draws = 15000 - wins_gambler - wins_roxanne\n",
    "draws_percentage = draws / 15000\n",
    "\n",
    "results_gambler_roxanne['Roxanne']['total wins white'] = wins_roxanne\n",
    "results_gambler_roxanne['Roxanne']['percentage wins white'] = wins_roxanne_percentage\n",
    "results_gambler_roxanne['Gambler']['total wins black'] = wins_gambler\n",
    "results_gambler_roxanne['Gambler']['percentage wins black'] = wins_gambler_percentage\n",
    "results_gambler_roxanne['Draw']['total roxanne white'] = draws\n",
    "results_gambler_roxanne['Draw']['percentage roxanne white'] = draws_percentage\n",
    "\n",
    "# roxanne black results\n",
    "wins_roxanne, wins_gambler, x,y = df2.sum(axis=0)\n",
    "wins_roxanne_percentage = wins_roxanne/15000\n",
    "wins_gambler_percentage = wins_gambler/15000\n",
    "draws = 15000 - wins_gambler - wins_roxanne\n",
    "draws_percentage = draws / 15000\n",
    "\n",
    "results_gambler_roxanne['Roxanne']['total wins black'] = wins_roxanne\n",
    "results_gambler_roxanne['Roxanne']['percentage wins black'] = wins_roxanne_percentage\n",
    "results_gambler_roxanne['Gambler']['total wins white'] = wins_gambler\n",
    "results_gambler_roxanne['Gambler']['percentage wins white'] = wins_gambler_percentage\n",
    "results_gambler_roxanne['Draw']['total gambler white'] = draws\n",
    "results_gambler_roxanne['Draw']['percentage gambler white'] = draws_percentage\n"
   ]
  },
  {
   "cell_type": "code",
   "execution_count": null,
   "metadata": {},
   "outputs": [],
   "source": [
    "results_gambler_roxanne"
   ]
  },
  {
   "cell_type": "code",
   "execution_count": 5,
   "metadata": {},
   "outputs": [],
   "source": [
    "# read in data from Roxanne vs. Greedy\n",
    "df1 = pandas.read_csv('Roxanne_Greedy_15000.txt',header=2) # Roxanne white\n",
    "df2 = pandas.read_csv('Greedy_Roxanne_15000.txt',header=2) # Greedy white\n",
    "df3 = pandas.concat([df1,df2],ignore_index='True') # both mixed, Roxanne and Greedy are same ampount of time white player\n",
    "results_greedy_roxanne = {}\n",
    "results_greedy_roxanne['Roxanne'] = {}\n",
    "results_greedy_roxanne['Greedy'] = {}\n",
    "results_greedy_roxanne['Draw'] = {} \n",
    "#mixed results\n",
    "wins_roxanne, wins_greedy, x,y = df3.sum(axis=0)\n",
    "wins_roxanne_percentage = wins_roxanne/30000\n",
    "wins_greedy_percentage = wins_greedy/30000\n",
    "draws = 30000 - wins_greedy - wins_roxanne\n",
    "draws_percentage = draws / 30000\n",
    "results_greedy_roxanne['Roxanne']['total wins'] = wins_roxanne\n",
    "results_greedy_roxanne['Roxanne']['percentage wins'] = wins_roxanne_percentage\n",
    "results_greedy_roxanne['Greedy']['total wins'] = wins_greedy\n",
    "results_greedy_roxanne['Greedy']['percentage wins'] = wins_greedy_percentage\n",
    "results_greedy_roxanne['Draw']['total'] = draws\n",
    "results_greedy_roxanne['Draw']['percentage'] = draws_percentage\n",
    "\n",
    "# roxanne white results\n",
    "wins_roxanne, wins_greedy, x,y = df1.sum(axis=0)\n",
    "wins_roxanne_percentage = wins_roxanne/15000\n",
    "wins_greedy_percentage = wins_greedy/15000\n",
    "draws = 15000 - wins_greedy - wins_roxanne\n",
    "draws_percentage = draws / 15000\n",
    "\n",
    "results_greedy_roxanne['Roxanne']['total wins white'] = wins_roxanne\n",
    "results_greedy_roxanne['Roxanne']['percentage wins white'] = wins_roxanne_percentage\n",
    "results_greedy_roxanne['Greedy']['total wins black'] = wins_greedy\n",
    "results_greedy_roxanne['Greedy']['percentage wins black'] = wins_greedy_percentage\n",
    "results_greedy_roxanne['Draw']['total roxanne white'] = draws\n",
    "results_greedy_roxanne['Draw']['percentage roxanne white'] = draws_percentage\n",
    "\n",
    "# roxanne black results\n",
    "wins_roxanne, wins_greedy, x,y = df2.sum(axis=0)\n",
    "wins_roxanne_percentage = wins_roxanne/15000\n",
    "wins_greedy_percentage = wins_greedy/15000\n",
    "draws = 15000 - wins_greedy - wins_roxanne\n",
    "draws_percentage = draws / 15000\n",
    "\n",
    "results_greedy_roxanne['Roxanne']['total wins black'] = wins_roxanne\n",
    "results_greedy_roxanne['Roxanne']['percentage wins black'] = wins_roxanne_percentage\n",
    "results_greedy_roxanne['Greedy']['total wins white'] = wins_greedy\n",
    "results_greedy_roxanne['Greedy']['percentage wins white'] = wins_greedy_percentage\n",
    "results_greedy_roxanne['Draw']['total Greedy white'] = draws\n",
    "results_greedy_roxanne['Draw']['percentage Greedy white'] = draws_percentage"
   ]
  },
  {
   "cell_type": "code",
   "execution_count": 6,
   "metadata": {},
   "outputs": [
    {
     "output_type": "execute_result",
     "data": {
      "text/plain": [
       "{'Roxanne': {'total wins': 794,\n",
       "  'percentage wins': 0.794,\n",
       "  'total wins white': 396,\n",
       "  'percentage wins white': 0.792,\n",
       "  'total wins black': 398,\n",
       "  'percentage wins black': 0.796},\n",
       " 'Greedy': {'total wins': 184,\n",
       "  'percentage wins': 0.184,\n",
       "  'total wins black': 91,\n",
       "  'percentage wins black': 0.182,\n",
       "  'total wins white': 93,\n",
       "  'percentage wins white': 0.186},\n",
       " 'Draw': {'total': 22,\n",
       "  'percentage': 0.022,\n",
       "  'total roxanne white': 13,\n",
       "  'percentage roxanne white': 0.026,\n",
       "  'total Greedy white': 9,\n",
       "  'percentage Greedy white': 0.018}}"
      ]
     },
     "metadata": {},
     "execution_count": 6
    }
   ],
   "source": [
    "results_greedy_roxanne"
   ]
  },
  {
   "cell_type": "code",
   "execution_count": 2,
   "metadata": {},
   "outputs": [],
   "source": []
  },
  {
   "cell_type": "code",
   "execution_count": 3,
   "metadata": {},
   "outputs": [],
   "source": []
  },
  {
   "cell_type": "code",
   "execution_count": null,
   "metadata": {},
   "outputs": [],
   "source": [
    "\n"
   ]
  },
  {
   "cell_type": "code",
   "execution_count": 4,
   "metadata": {},
   "outputs": [
    {
     "output_type": "stream",
     "name": "stdout",
     "text": [
      "Position: 0,0\nPosition: 0,1\nPosition: 0,2\nPosition: 0,3\nPosition: 0,4\nPosition: 0,5\nPosition: 0,6\nPosition: 0,7\nPosition: 1,0\nPosition: 1,1\nPosition: 1,2\nDirection: 11: Position: 2,3\nflipping direction\nPosition added\nPosition: 1,3\nDirection: 10: Position: 2,3\nDirection: 10: Position: 3,3\nDirection: 10: Position: 4,3\nPosition: 1,4\nDirection: 1-1: Position: 2,3\nPosition: 1,5\nPosition: 1,6\nPosition: 1,7\nPosition: 2,0\nPosition: 2,1\nPosition: 2,2\nDirection: 01: Position: 2,3\nDirection: 11: Position: 3,3\nflipping direction\nPosition added\nPosition: 2,4\nDirection: 1-1: Position: 3,3\nDirection: 0-1: Position: 2,3\nPosition: 2,5\nPosition: 2,6\nPosition: 2,7\nPosition: 3,0\nPosition: 3,1\nPosition: 3,2\nDirection: -11: Position: 2,3\nDirection: 01: Position: 3,3\nflipping direction\nDirection: 11: Position: 4,3\nPosition added\nPosition: 3,5\nPosition: 3,6\nPosition: 3,7\nPosition: 4,0\nPosition: 4,1\nPosition: 4,2\nDirection: -11: Position: 3,3\nDirection: 01: Position: 4,3\nflipping direction\nPosition added\nPosition: 4,5\nPosition: 4,6\nPosition: 4,7\nPosition: 5,0\nPosition: 5,1\nPosition: 5,2\nDirection: -11: Position: 4,3\nflipping direction\nPosition added\nPosition: 5,3\nDirection: -10: Position: 4,3\nDirection: -10: Position: 3,3\nDirection: -10: Position: 2,3\nPosition: 5,4\nDirection: -1-1: Position: 4,3\nPosition: 5,5\nPosition: 5,6\nPosition: 5,7\nPosition: 6,0\nPosition: 6,1\nPosition: 6,2\nPosition: 6,3\nPosition: 6,4\nPosition: 6,5\nPosition: 6,6\nPosition: 6,7\nPosition: 7,0\nPosition: 7,1\nPosition: 7,2\nPosition: 7,3\nPosition: 7,4\nPosition: 7,5\nPosition: 7,6\nPosition: 7,7\n"
     ]
    }
   ],
   "source": []
  },
  {
   "cell_type": "code",
   "execution_count": 11,
   "metadata": {},
   "outputs": [],
   "source": []
  },
  {
   "cell_type": "code",
   "execution_count": 12,
   "metadata": {},
   "outputs": [],
   "source": [
    "\n"
   ]
  },
  {
   "cell_type": "code",
   "execution_count": 8,
   "metadata": {},
   "outputs": [
    {
     "output_type": "stream",
     "name": "stdout",
     "text": [
      "[0, 0, 0, 0, 0, 0, 0, 0]\n[0, 0, 0, 0, 0, 0, 0, 0]\n[0, 0, 0, 0, 1, 0, 0, 0]\n[0, 0, 0, 1, 1, 0, 0, 0]\n[0, 0, 0, -1, 1, 0, 0, 0]\n[0, 0, 0, 0, 0, 0, 0, 0]\n[0, 0, 0, 0, 0, 0, 0, 0]\n[0, 0, 0, 0, 0, 0, 0, 0]\n"
     ]
    }
   ],
   "source": []
  },
  {
   "cell_type": "code",
   "execution_count": null,
   "metadata": {},
   "outputs": [],
   "source": []
  },
  {
   "cell_type": "code",
   "execution_count": null,
   "metadata": {},
   "outputs": [],
   "source": []
  }
 ]
}