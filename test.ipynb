{
 "metadata": {
  "language_info": {
   "codemirror_mode": {
    "name": "ipython",
    "version": 3
   },
   "file_extension": ".py",
   "mimetype": "text/x-python",
   "name": "python",
   "nbconvert_exporter": "python",
   "pygments_lexer": "ipython3",
   "version": "3.8.5"
  },
  "orig_nbformat": 2,
  "kernelspec": {
   "name": "python385jvsc74a57bd01c9995cb95a6d3ee269721cd2bfb7c6cf4dd0363b87e4d35ac03943323d3aacf",
   "display_name": "Python 3.8.5 64-bit ('base': conda)"
  }
 },
 "nbformat": 4,
 "nbformat_minor": 2,
 "cells": [
  {
   "cell_type": "code",
   "execution_count": 2,
   "metadata": {},
   "outputs": [
    {
     "output_type": "stream",
     "name": "stdout",
     "text": [
      "pygame 2.0.1 (SDL 2.0.14, Python 3.8.5)\nHello from the pygame community. https://www.pygame.org/contribute.html\n"
     ]
    }
   ],
   "source": [
    "import othello_game.board as b\n",
    "import othello_player.player as p\n",
    "import othello_player.human as h\n",
    "import othello_game.interaction as i\n",
    "import othello_game.constants as c \n",
    "import copy\n",
    "import numpy as np \n",
    "import pygame\n",
    "    "
   ]
  },
  {
   "cell_type": "code",
   "execution_count": 3,
   "metadata": {},
   "outputs": [],
   "source": [
    "graphical_interaction = i.Interaction()\n",
    "test_board = b.Board()"
   ]
  },
  {
   "cell_type": "code",
   "execution_count": 9,
   "metadata": {},
   "outputs": [
    {
     "output_type": "stream",
     "name": "stdout",
     "text": [
      "1\n"
     ]
    }
   ],
   "source": [
    "player_types = {'HUMAN' : h.Human, 'PLAYER' : p.Player}\n",
    "player1 = player_types['HUMAN'](1,graphical_interaction)\n",
    "print(player1.colour)"
   ]
  },
  {
   "cell_type": "code",
   "execution_count": 2,
   "metadata": {},
   "outputs": [
    {
     "output_type": "stream",
     "name": "stdout",
     "text": [
      "_________________\n",
      "Start\n",
      "_________________\n",
      "[0, 0, 0, 0, 0, 0, 0, 0]\n",
      "[0, 0, 0, 0, 0, 0, 0, 0]\n",
      "[0, 0, 0, 0, 0, 0, 0, 0]\n",
      "[0, 0, 0, 1, -1, 0, 0, 0]\n",
      "[0, 0, 0, -1, 1, 0, 0, 0]\n",
      "[0, 0, 0, 0, 0, 0, 0, 0]\n",
      "[0, 0, 0, 0, 0, 0, 0, 0]\n",
      "[0, 0, 0, 0, 0, 0, 0, 0]\n",
      "_________________\n",
      "Player 1\n",
      "_________________\n",
      "[0, 0, 0, 0, 0, 0, 0, 0]\n",
      "[0, 0, 0, 0, 0, 0, 0, 0]\n",
      "[0, 0, 0, 0, 1, 0, 0, 0]\n",
      "[0, 0, 0, 1, 1, 0, 0, 0]\n",
      "[0, 0, 0, -1, 1, 0, 0, 0]\n",
      "[0, 0, 0, 0, 0, 0, 0, 0]\n",
      "[0, 0, 0, 0, 0, 0, 0, 0]\n",
      "[0, 0, 0, 0, 0, 0, 0, 0]\n",
      "_________________\n",
      "Player 2\n",
      "_________________\n",
      "[0, 0, 0, 0, 0, 0, 0, 0]\n",
      "[0, 0, 0, 0, 0, 0, 0, 0]\n",
      "[0, 0, 0, 0, 1, -1, 0, 0]\n",
      "[0, 0, 0, 1, -1, 0, 0, 0]\n",
      "[0, 0, 0, -1, 1, 0, 0, 0]\n",
      "[0, 0, 0, 0, 0, 0, 0, 0]\n",
      "[0, 0, 0, 0, 0, 0, 0, 0]\n",
      "[0, 0, 0, 0, 0, 0, 0, 0]\n",
      "_________________\n",
      "Player 1\n",
      "_________________\n",
      "[0, 0, 0, 0, 0, 0, 0, 0]\n",
      "[0, 0, 0, 0, 0, 0, 0, 0]\n",
      "[0, 0, 0, 0, 1, -1, 0, 0]\n",
      "[0, 0, 0, 1, 1, 1, 0, 0]\n",
      "[0, 0, 0, -1, 1, 0, 0, 0]\n",
      "[0, 0, 0, 0, 0, 0, 0, 0]\n",
      "[0, 0, 0, 0, 0, 0, 0, 0]\n",
      "[0, 0, 0, 0, 0, 0, 0, 0]\n",
      "_________________\n",
      "Player 2\n",
      "_________________\n",
      "[0, 0, 0, 0, 0, 0, 0, 0]\n",
      "[0, 0, 0, 0, 0, 0, 0, 0]\n",
      "[0, 0, 0, 0, 1, -1, 0, 0]\n",
      "[0, 0, 0, 1, 1, -1, 0, 0]\n",
      "[0, 0, 0, -1, -1, -1, 0, 0]\n",
      "[0, 0, 0, 0, 0, 0, 0, 0]\n",
      "[0, 0, 0, 0, 0, 0, 0, 0]\n",
      "[0, 0, 0, 0, 0, 0, 0, 0]\n",
      "_________________\n",
      "Player 1\n",
      "_________________\n",
      "[0, 0, 0, 0, 0, 0, 0, 0]\n",
      "[0, 0, 0, 0, 0, 0, 0, 0]\n",
      "[0, 0, 0, 0, 1, -1, 0, 0]\n",
      "[0, 0, 0, 1, 1, -1, 0, 0]\n",
      "[0, 0, 0, -1, -1, 1, 0, 0]\n",
      "[0, 0, 0, 0, 0, 0, 1, 0]\n",
      "[0, 0, 0, 0, 0, 0, 0, 0]\n",
      "[0, 0, 0, 0, 0, 0, 0, 0]\n",
      "_________________\n",
      "Player 2\n",
      "_________________\n",
      "[0, 0, 0, 0, 0, 0, 0, 0]\n",
      "[0, 0, 0, 0, -1, 0, 0, 0]\n",
      "[0, 0, 0, 0, -1, -1, 0, 0]\n",
      "[0, 0, 0, 1, -1, -1, 0, 0]\n",
      "[0, 0, 0, -1, -1, 1, 0, 0]\n",
      "[0, 0, 0, 0, 0, 0, 1, 0]\n",
      "[0, 0, 0, 0, 0, 0, 0, 0]\n",
      "[0, 0, 0, 0, 0, 0, 0, 0]\n",
      "_________________\n",
      "Player 1\n",
      "_________________\n",
      "[0, 0, 0, 0, 0, 0, 0, 0]\n",
      "[0, 0, 0, 0, -1, 0, 0, 0]\n",
      "[0, 0, 0, 1, -1, -1, 0, 0]\n",
      "[0, 0, 0, 1, 1, -1, 0, 0]\n",
      "[0, 0, 0, -1, -1, 1, 0, 0]\n",
      "[0, 0, 0, 0, 0, 0, 1, 0]\n",
      "[0, 0, 0, 0, 0, 0, 0, 0]\n",
      "[0, 0, 0, 0, 0, 0, 0, 0]\n",
      "_________________\n",
      "Player 2\n",
      "_________________\n",
      "[0, 0, 0, 0, 0, 0, 0, 0]\n",
      "[0, 0, 0, 0, -1, 0, 0, 0]\n",
      "[0, 0, 0, 1, -1, -1, 0, 0]\n",
      "[0, 0, 0, 1, 1, -1, 0, 0]\n",
      "[0, 0, 0, -1, -1, -1, -1, 0]\n",
      "[0, 0, 0, 0, 0, 0, 1, 0]\n",
      "[0, 0, 0, 0, 0, 0, 0, 0]\n",
      "[0, 0, 0, 0, 0, 0, 0, 0]\n",
      "_________________\n",
      "Player 1\n",
      "_________________\n",
      "[0, 0, 0, 0, 0, 0, 0, 0]\n",
      "[0, 0, 0, 0, -1, 0, 1, 0]\n",
      "[0, 0, 0, 1, -1, 1, 0, 0]\n",
      "[0, 0, 0, 1, 1, -1, 0, 0]\n",
      "[0, 0, 0, -1, -1, -1, -1, 0]\n",
      "[0, 0, 0, 0, 0, 0, 1, 0]\n",
      "[0, 0, 0, 0, 0, 0, 0, 0]\n",
      "[0, 0, 0, 0, 0, 0, 0, 0]\n",
      "_________________\n",
      "Player 2\n",
      "_________________\n",
      "[0, 0, 0, 0, 0, 0, 0, -1]\n",
      "[0, 0, 0, 0, -1, 0, -1, 0]\n",
      "[0, 0, 0, 1, -1, -1, 0, 0]\n",
      "[0, 0, 0, 1, -1, -1, 0, 0]\n",
      "[0, 0, 0, -1, -1, -1, -1, 0]\n",
      "[0, 0, 0, 0, 0, 0, 1, 0]\n",
      "[0, 0, 0, 0, 0, 0, 0, 0]\n",
      "[0, 0, 0, 0, 0, 0, 0, 0]\n"
     ]
    }
   ],
   "source": [
    "graphical_interaction = i.Interaction()\n",
    "test_board = b.Board()\n",
    "player1 = h.Human(1,graphical_interaction)\n",
    "player2 = h.Human(-1,graphical_interaction)\n",
    "graphical_interaction.draw_board(test_board)\n",
    "print('_________________')\n",
    "print('Start')\n",
    "print('_________________')\n",
    "for row in range(c.NUM_ROWS):\n",
    "        print(test_board.positions[row])\n",
    "for x in range(5):\n",
    "    exit_val,test_board = player1.make_move(test_board)\n",
    "    if(exit_val == 1): \n",
    "        break\n",
    "    graphical_interaction.draw_board(test_board)\n",
    "    print('_________________')\n",
    "    print('Player 1')\n",
    "    print('_________________')\n",
    "    for row in range(c.NUM_ROWS):\n",
    "        print(test_board.positions[row])\n",
    "    exit_val,test_board = player2.make_move(test_board)\n",
    "    if(exit_val == 1): \n",
    "        break\n",
    "    graphical_interaction.draw_board(test_board)\n",
    "    print('_________________')\n",
    "    print('Player 2')\n",
    "    print('_________________')\n",
    "    for row in range(c.NUM_ROWS):\n",
    "        print(test_board.positions[row])"
   ]
  },
  {
   "cell_type": "code",
   "execution_count": 2,
   "metadata": {},
   "outputs": [],
   "source": [
    "player = p.Player(1)\n",
    "graphical_interaction = i.Interaction()\n",
    "test_board = b.Board()"
   ]
  },
  {
   "cell_type": "code",
   "execution_count": 3,
   "metadata": {},
   "outputs": [],
   "source": [
    "test_board.positions = [\n",
    "[0, 0, 0, 0, 0, 0, 0, 0],\n",
    "[0, 0, 0, 0, 0, 0, 0, 0],\n",
    "[0, 0, 0, -1, 0, 0, 0, 0],\n",
    "[0, 0, 0, -1, 1, 0, 0, 0],\n",
    "[0, 0, 0, -1, 1, 0, 0, 0],\n",
    "[0, 0, 0, 0, 0, 0, 0, 0],\n",
    "[0, 0, 0, 0, 0, 0, 0, 0],\n",
    "[0, 0, 0, 0, 0, 0, 0, 0]]"
   ]
  },
  {
   "cell_type": "code",
   "execution_count": null,
   "metadata": {},
   "outputs": [],
   "source": [
    "player.get_possible_moves()\n"
   ]
  },
  {
   "cell_type": "code",
   "execution_count": 4,
   "metadata": {},
   "outputs": [
    {
     "output_type": "stream",
     "name": "stdout",
     "text": [
      "Position: 0,0\nPosition: 0,1\nPosition: 0,2\nPosition: 0,3\nPosition: 0,4\nPosition: 0,5\nPosition: 0,6\nPosition: 0,7\nPosition: 1,0\nPosition: 1,1\nPosition: 1,2\nDirection: 11: Position: 2,3\nflipping direction\nPosition added\nPosition: 1,3\nDirection: 10: Position: 2,3\nDirection: 10: Position: 3,3\nDirection: 10: Position: 4,3\nPosition: 1,4\nDirection: 1-1: Position: 2,3\nPosition: 1,5\nPosition: 1,6\nPosition: 1,7\nPosition: 2,0\nPosition: 2,1\nPosition: 2,2\nDirection: 01: Position: 2,3\nDirection: 11: Position: 3,3\nflipping direction\nPosition added\nPosition: 2,4\nDirection: 1-1: Position: 3,3\nDirection: 0-1: Position: 2,3\nPosition: 2,5\nPosition: 2,6\nPosition: 2,7\nPosition: 3,0\nPosition: 3,1\nPosition: 3,2\nDirection: -11: Position: 2,3\nDirection: 01: Position: 3,3\nflipping direction\nDirection: 11: Position: 4,3\nPosition added\nPosition: 3,5\nPosition: 3,6\nPosition: 3,7\nPosition: 4,0\nPosition: 4,1\nPosition: 4,2\nDirection: -11: Position: 3,3\nDirection: 01: Position: 4,3\nflipping direction\nPosition added\nPosition: 4,5\nPosition: 4,6\nPosition: 4,7\nPosition: 5,0\nPosition: 5,1\nPosition: 5,2\nDirection: -11: Position: 4,3\nflipping direction\nPosition added\nPosition: 5,3\nDirection: -10: Position: 4,3\nDirection: -10: Position: 3,3\nDirection: -10: Position: 2,3\nPosition: 5,4\nDirection: -1-1: Position: 4,3\nPosition: 5,5\nPosition: 5,6\nPosition: 5,7\nPosition: 6,0\nPosition: 6,1\nPosition: 6,2\nPosition: 6,3\nPosition: 6,4\nPosition: 6,5\nPosition: 6,6\nPosition: 6,7\nPosition: 7,0\nPosition: 7,1\nPosition: 7,2\nPosition: 7,3\nPosition: 7,4\nPosition: 7,5\nPosition: 7,6\nPosition: 7,7\n"
     ]
    }
   ],
   "source": [
    "graphical_interaction.draw_board(test_board)\n",
    "player.get_possible_moves(test_board)\n",
    "graphical_interaction.draw_possible_positions(player.possible_positions,player.colour)\n"
   ]
  },
  {
   "cell_type": "code",
   "execution_count": 11,
   "metadata": {},
   "outputs": [],
   "source": [
    "selected_position = [4,2]\n",
    "graphical_interaction.draw_selected_position(selected_position)"
   ]
  },
  {
   "cell_type": "code",
   "execution_count": 12,
   "metadata": {},
   "outputs": [],
   "source": [
    "index = player.possible_positions.index(selected_position)\n",
    "test_board = player.possible_moves[index]\n",
    "graphical_interaction.draw_board(test_board)\n"
   ]
  },
  {
   "cell_type": "code",
   "execution_count": 8,
   "metadata": {},
   "outputs": [
    {
     "output_type": "stream",
     "name": "stdout",
     "text": [
      "[0, 0, 0, 0, 0, 0, 0, 0]\n[0, 0, 0, 0, 0, 0, 0, 0]\n[0, 0, 0, 0, 1, 0, 0, 0]\n[0, 0, 0, 1, 1, 0, 0, 0]\n[0, 0, 0, -1, 1, 0, 0, 0]\n[0, 0, 0, 0, 0, 0, 0, 0]\n[0, 0, 0, 0, 0, 0, 0, 0]\n[0, 0, 0, 0, 0, 0, 0, 0]\n"
     ]
    }
   ],
   "source": [
    "for row in range(c.NUM_ROWS):\n",
    "    print(test_board.positions[row])"
   ]
  },
  {
   "cell_type": "code",
   "execution_count": null,
   "metadata": {},
   "outputs": [],
   "source": [
    "temp = 0\n",
    "for x in range(4):\n",
    "    if (x == 1):\n",
    "        continue\n",
    "    temp += x\n",
    "print(temp)"
   ]
  },
  {
   "cell_type": "code",
   "execution_count": null,
   "metadata": {},
   "outputs": [],
   "source": []
  }
 ]
}